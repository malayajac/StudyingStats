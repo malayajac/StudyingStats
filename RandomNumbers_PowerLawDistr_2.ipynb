{
 "cells": [
  {
   "cell_type": "markdown",
   "metadata": {},
   "source": [
    "# How to generate random numbers drawn from a discrete power-law distribution?"
   ]
  },
  {
   "cell_type": "markdown",
   "metadata": {},
   "source": [
    "The following notes are from Appendix D of:<br>\n",
    "Clauset, A., Shalizi, C. R., & Newman, M. E. J. (2007). Power-law distributions in empirical data. SIAM Review, 51(4), 43. https://doi.org/10.1109/ICPC.2008.18"
   ]
  },
  {
   "cell_type": "markdown",
   "metadata": {},
   "source": [
    "### What is a discrete power-law distribution?"
   ]
  },
  {
   "cell_type": "markdown",
   "metadata": {},
   "source": [
    "Need to write stuff here..."
   ]
  },
  {
   "cell_type": "markdown",
   "metadata": {},
   "source": [
    "Hurwitz zeta function:\n",
    "$$ \\zeta(\\alpha, q) = \\sum \\limits_{n=0}^{\\infty} = (n + q)^{-\\alpha} $$"
   ]
  },
  {
   "cell_type": "markdown",
   "metadata": {},
   "source": [
    "First, generate set of random real numbers $r$ that are uniformaly distributed in the interval $[0, 1)$."
   ]
  },
  {
   "cell_type": "code",
   "execution_count": 1,
   "metadata": {},
   "outputs": [],
   "source": [
    "import numpy as np\n",
    "import matplotlib.pyplot as plt\n",
    "from scipy.special import zeta"
   ]
  },
  {
   "cell_type": "code",
   "execution_count": 2,
   "metadata": {},
   "outputs": [],
   "source": [
    "def DiscretePowerLaw_CDF(x, alpha, xmin):\n",
    "    P = zeta(alpha, x)/zeta(alpha, xmin)\n",
    "    return(P)"
   ]
  },
  {
   "cell_type": "code",
   "execution_count": 3,
   "metadata": {},
   "outputs": [],
   "source": [
    "xmin = 7\n",
    "alpha = 2.5"
   ]
  },
  {
   "cell_type": "code",
   "execution_count": 4,
   "metadata": {},
   "outputs": [],
   "source": [
    "r_List = np.random.uniform(low=0.0, high=1.0, size=1000)"
   ]
  },
  {
   "cell_type": "code",
   "execution_count": 5,
   "metadata": {},
   "outputs": [],
   "source": [
    "NumBins_r = 10\n",
    "MyBins_r = np.linspace(0, 1, NumBins_r+1)\n",
    "\n",
    "r_hist, r_bins = np.histogram(r_List, bins=MyBins_r, density=True)"
   ]
  },
  {
   "cell_type": "code",
   "execution_count": 6,
   "metadata": {},
   "outputs": [
    {
     "data": {
      "image/png": "[encoded data removed]",
      "text/plain": [
       "<Figure size 432x288 with 1 Axes>"
      ]
     },
     "metadata": {
      "needs_background": "light"
     },
     "output_type": "display_data"
    }
   ],
   "source": [
    "fig = plt.figure()\n",
    "ax = fig.add_axes([0, 0, 1, 1])\n",
    "\n",
    "ax.bar( r_bins[:-1], r_hist, width=0.9*(MyBins_r[1] - MyBins_r[0]) )\n",
    "\n",
    "ax.set_xlabel(\"r\", fontsize=20)\n",
    "ax.set_ylabel(\"p(r)\", fontsize=20)\n",
    "\n",
    "plt.show()"
   ]
  },
  {
   "cell_type": "code",
   "execution_count": 7,
   "metadata": {},
   "outputs": [
    {
     "name": "stdout",
     "output_type": "stream",
     "text": [
      "CPU times: user 231 ms, sys: 5.78 ms, total: 237 ms\n",
      "Wall time: 249 ms\n"
     ]
    }
   ],
   "source": [
    "%%time\n",
    "x_List = []\n",
    "for r in r_List:\n",
    "    \n",
    "    x1 = xmin\n",
    "    x2 = 2*x1\n",
    "    cdf = DiscretePowerLaw_CDF(x2, alpha, xmin)\n",
    "\n",
    "    while cdf>1-r:\n",
    "        x1 = x2\n",
    "        x2 = 2*x1\n",
    "        cdf = DiscretePowerLaw_CDF(x2, alpha, xmin)\n",
    "    #-----\n",
    "    x_line = np.arange(x1, x2, 1)\n",
    "\n",
    "    for ii in range(len(x_line)-1):\n",
    "        x_left = x_line[ii]\n",
    "        fn_left = DiscretePowerLaw_CDF(x_left, alpha, xmin) - 1 + r\n",
    "\n",
    "        x_right = x_line[ii+1]\n",
    "        fn_right = DiscretePowerLaw_CDF(x_right, alpha, xmin) - 1 + r\n",
    "\n",
    "        if fn_left*fn_right<0:\n",
    "            break\n",
    "    x_List.append(x_left)"
   ]
  },
  {
   "cell_type": "code",
   "execution_count": 8,
   "metadata": {},
   "outputs": [
    {
     "name": "stdout",
     "output_type": "stream",
     "text": [
      "7 1454\n"
     ]
    }
   ],
   "source": [
    "print(min(x_List), max(x_List))"
   ]
  },
  {
   "cell_type": "code",
   "execution_count": 9,
   "metadata": {},
   "outputs": [],
   "source": [
    "MyBins_x = np.arange(min(x_List), max(x_List)+1, 1)"
   ]
  },
  {
   "cell_type": "code",
   "execution_count": 10,
   "metadata": {},
   "outputs": [],
   "source": [
    "x_hist, x_bins = np.histogram(x_List, bins=MyBins_x, density=True)"
   ]
  },
  {
   "cell_type": "code",
   "execution_count": 11,
   "metadata": {},
   "outputs": [],
   "source": [
    "px_theory = (x_bins[:-1])**(-alpha) / zeta(alpha, xmin)\n",
    "\n",
    "PlotYlim_bottom = (sorted(set(x_hist))[1] - sorted(set(x_hist))[0])/2"
   ]
  },
  {
   "cell_type": "code",
   "execution_count": 12,
   "metadata": {},
   "outputs": [
    {
     "data": {
      "image/png": "[encoded data removed]",
      "text/plain": [
       "<Figure size 432x288 with 1 Axes>"
      ]
     },
     "metadata": {
      "needs_background": "light"
     },
     "output_type": "display_data"
    }
   ],
   "source": [
    "fig = plt.figure()\n",
    "ax = fig.add_axes([0, 0, 1, 1])\n",
    "\n",
    "ax.plot( x_bins[:-1], x_hist, \".\")\n",
    "ax.plot( x_bins[:-1], px_theory, \"-\")\n",
    "\n",
    "ax.set_xscale('log')\n",
    "ax.set_yscale('log')\n",
    "\n",
    "ax.set_xlabel(\"x\", fontsize=20)\n",
    "ax.set_ylabel(\"p(x)\", fontsize=20)\n",
    "\n",
    "ax.set_ylim(bottom = PlotYlim_bottom)\n",
    "\n",
    "plt.show()"
   ]
  },
  {
   "cell_type": "code",
   "execution_count": null,
   "metadata": {},
   "outputs": [],
   "source": []
  }
 ],
 "metadata": {
  "kernelspec": {
   "display_name": "Python 3",
   "language": "python",
   "name": "python3"
  },
  "language_info": {
   "codemirror_mode": {
    "name": "ipython",
    "version": 3
   },
   "file_extension": ".py",
   "mimetype": "text/x-python",
   "name": "python",
   "nbconvert_exporter": "python",
   "pygments_lexer": "ipython3",
   "version": "3.7.7"
  }
 },
 "nbformat": 4,
 "nbformat_minor": 4
}
