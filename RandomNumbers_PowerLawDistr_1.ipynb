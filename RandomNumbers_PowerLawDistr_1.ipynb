{
 "cells": [
  {
   "cell_type": "markdown",
   "metadata": {},
   "source": [
    "# How to generate random real numbers with a power-law distribution?"
   ]
  },
  {
   "cell_type": "markdown",
   "metadata": {},
   "source": [
    "Notes from Appendix D of:<br>\n",
    "Clauset, A., Shalizi, C. R., & Newman, M. E. J. (2007). Power-law distributions in empirical data. SIAM Review, 51(4), 43. https://doi.org/10.1109/ICPC.2008.18"
   ]
  },
  {
   "cell_type": "markdown",
   "metadata": {},
   "source": [
    "First, generate set of random real numbers $r$ that are uniformaly distributed in the interval $[0, 1)$."
   ]
  },
  {
   "cell_type": "code",
   "execution_count": 1,
   "metadata": {},
   "outputs": [],
   "source": [
    "import numpy as np\n",
    "import matplotlib.pyplot as plt\n",
    "from math import floor, ceil"
   ]
  },
  {
   "cell_type": "code",
   "execution_count": 2,
   "metadata": {},
   "outputs": [],
   "source": [
    "r = np.random.uniform(low=0.0, high=1.0, size=1000)"
   ]
  },
  {
   "cell_type": "markdown",
   "metadata": {},
   "source": [
    "Let's plot to see if they're uniformly distributed."
   ]
  },
  {
   "cell_type": "code",
   "execution_count": 3,
   "metadata": {},
   "outputs": [],
   "source": [
    "NumBins = 10\n",
    "MyBins = np.linspace(0, 1, NumBins+1)\n",
    "\n",
    "r_hist, r_bins = np.histogram(r, bins=MyBins, density=True)"
   ]
  },
  {
   "cell_type": "code",
   "execution_count": 4,
   "metadata": {},
   "outputs": [
    {
     "data": {
      "image/png": "[encoded data removed]",
      "text/plain": [
       "<Figure size 432x288 with 1 Axes>"
      ]
     },
     "metadata": {
      "needs_background": "light"
     },
     "output_type": "display_data"
    }
   ],
   "source": [
    "fig = plt.figure()\n",
    "ax = fig.add_axes([0, 0, 1, 1])\n",
    "\n",
    "ax.bar( r_bins[:-1], r_hist, width=0.9*(MyBins[1] - MyBins[0]) )\n",
    "\n",
    "ax.set_xlabel(\"r\", fontsize=20)\n",
    "ax.set_ylabel(\"p(r)\", fontsize=20)\n",
    "\n",
    "plt.show()"
   ]
  },
  {
   "cell_type": "markdown",
   "metadata": {},
   "source": [
    "Let $p(r)$ be the uniform probability density function, from which we have drawn the above random real numbers."
   ]
  },
  {
   "cell_type": "markdown",
   "metadata": {},
   "source": [
    "Now, suppose $p(x)$ is a continuous probability density from which we want to draw\n",
    "random real numbers $x \\geq x_{min}$."
   ]
  },
  {
   "cell_type": "markdown",
   "metadata": {},
   "source": [
    "Probability densities $p(r)$ and $p(x)$ are related as follows:\n",
    "\n",
    "$$p(x)dx = p(r)dr$$\n",
    "\n",
    "Note that $p(r) = 1$ for $r \\in [0, 1)$."
   ]
  },
  {
   "cell_type": "markdown",
   "metadata": {},
   "source": [
    "$$\\Rightarrow p(x) = \\frac{dr}{dx}$$\n",
    "\n",
    "Integrate both sides wrt $x$:\n",
    "\n",
    "$$\\Rightarrow \\int_{x}^{\\infty} p(x') dx' = \\int_{r}^{1} dr'$$\n",
    "$$\\Rightarrow P(x) = 1 - r$$\n",
    "$$\\Rightarrow x = P^{-1}(1 - r)$$\n",
    "\n",
    "Where, $P$ is the CDF, and $P^{-1}$ is the functional inverse of the CDF."
   ]
  },
  {
   "cell_type": "markdown",
   "metadata": {},
   "source": [
    "Recall that for power-law distribution, PDF is:<br>\n",
    "$$p(x) = \\frac{\\alpha - 1}{x_{min}} \\left(\\frac{x}{x_{min}}\\right)^{-\\alpha}$$\n",
    "\n",
    "So, CDF is:\n",
    "$$P(x) = \\int_{x}^{\\infty} p(x')dx'\n",
    "= \\int_{x}^{\\infty} \\frac{\\alpha - 1}{x_{min}} \\left(\\frac{x'}{x_{min}}\\right)^{-\\alpha} dx'\n",
    "= \\left(\\frac{x}{x_{min}}\\right)^{-\\alpha+1}$$"
   ]
  },
  {
   "cell_type": "markdown",
   "metadata": {},
   "source": [
    "So:\n",
    "$$ P(x) = 1 - r $$\n",
    "$$ \\Rightarrow \\left( \\frac{x}{x_{min}}\\right)^{-\\alpha+1}\n",
    "= 1 - r $$\n",
    "$$ \\Rightarrow x = x_{min} (1 - r)^{1/(-\\alpha+1)}$$"
   ]
  },
  {
   "cell_type": "markdown",
   "metadata": {},
   "source": [
    "Let $x_{min} = 7$, $\\alpha = 2.5$"
   ]
  },
  {
   "cell_type": "code",
   "execution_count": 5,
   "metadata": {},
   "outputs": [],
   "source": [
    "xmin = 7.\n",
    "alpha = 2.5"
   ]
  },
  {
   "cell_type": "code",
   "execution_count": 6,
   "metadata": {},
   "outputs": [],
   "source": [
    "x = xmin * ((1-r)**(1/(-alpha+1)))"
   ]
  },
  {
   "cell_type": "code",
   "execution_count": 7,
   "metadata": {},
   "outputs": [
    {
     "name": "stdout",
     "output_type": "stream",
     "text": [
      "7.000574541399359 2987.649692743292\n"
     ]
    }
   ],
   "source": [
    "print(min(x), max(x))"
   ]
  },
  {
   "cell_type": "code",
   "execution_count": 8,
   "metadata": {},
   "outputs": [
    {
     "name": "stdout",
     "output_type": "stream",
     "text": [
      "7 2988\n"
     ]
    }
   ],
   "source": [
    "print(floor(min(x)), ceil(max(x)))"
   ]
  },
  {
   "cell_type": "code",
   "execution_count": 9,
   "metadata": {},
   "outputs": [],
   "source": [
    "MyBins_x = np.arange(floor(min(x)), ceil(max(x))+1, 1)\n",
    "\n",
    "x_hist, x_bins = np.histogram(x, bins=MyBins_x, density=True)"
   ]
  },
  {
   "cell_type": "code",
   "execution_count": 10,
   "metadata": {},
   "outputs": [],
   "source": [
    "px_theory = (alpha-1)/(xmin) * (x_bins[:-1]/xmin)**(-alpha)"
   ]
  },
  {
   "cell_type": "code",
   "execution_count": 11,
   "metadata": {},
   "outputs": [],
   "source": [
    "PlotYlim_bottom = (sorted(set(x_hist))[1] - sorted(set(x_hist))[0])/2"
   ]
  },
  {
   "cell_type": "code",
   "execution_count": 12,
   "metadata": {},
   "outputs": [
    {
     "data": {
      "image/png": "[encoded data removed]",
      "text/plain": [
       "<Figure size 432x288 with 1 Axes>"
      ]
     },
     "metadata": {
      "needs_background": "light"
     },
     "output_type": "display_data"
    }
   ],
   "source": [
    "fig = plt.figure()\n",
    "ax = fig.add_axes([0, 0, 1, 1])\n",
    "\n",
    "ax.plot( x_bins[:-1], x_hist, \".\")\n",
    "ax.plot( x_bins[:-1], px_theory, \"-\")\n",
    "\n",
    "ax.set_xscale('log')\n",
    "ax.set_yscale('log')\n",
    "\n",
    "ax.set_xlabel(\"x\", fontsize=20)\n",
    "ax.set_ylabel(\"p(x)\", fontsize=20)\n",
    "\n",
    "ax.set_ylim(bottom = PlotYlim_bottom)\n",
    "\n",
    "plt.show()"
   ]
  },
  {
   "cell_type": "code",
   "execution_count": null,
   "metadata": {},
   "outputs": [],
   "source": []
  }
 ],
 "metadata": {
  "kernelspec": {
   "display_name": "Python 3",
   "language": "python",
   "name": "python3"
  },
  "language_info": {
   "codemirror_mode": {
    "name": "ipython",
    "version": 3
   },
   "file_extension": ".py",
   "mimetype": "text/x-python",
   "name": "python",
   "nbconvert_exporter": "python",
   "pygments_lexer": "ipython3",
   "version": "3.7.7"
  }
 },
 "nbformat": 4,
 "nbformat_minor": 4
}
