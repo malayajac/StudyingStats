{
 "cells": [
  {
   "cell_type": "markdown",
   "metadata": {},
   "source": [
    "Notes taken from various online sources, as mentioned below."
   ]
  },
  {
   "cell_type": "markdown",
   "metadata": {},
   "source": [
    "https://www.countbayesie.com/blog/2017/5/9/kullback-leibler-divergence-explained"
   ]
  },
  {
   "cell_type": "markdown",
   "metadata": {},
   "source": [
    "- Primary goal of information theory is to quantify how much information is in data.\n",
    "\n",
    "- Most important metric: entropy.\n",
    "\n",
    "- Defn of entropy for a probability distribution:\n",
    "    - $H = -\\sum_{i=1}^{N} p(x_{i}) \\log{ p(x_{i})}$\n",
    "    \n",
    "    - If we use $\\log_{2}$ in the calculation, we can interpret entropy as the minimum number of bits it would take to encode our information.\n",
    "\n",
    "- But entropy doesn't tell us the optimal encoding scheme to help us achieve this compression.\n",
    "\n",
    "- By simply knowing the theoretical lower bound on the number of bits we need, we have a way to quantify exactly how much information is in our data. Next, we want to quatify how much information is lost when we substitute our observed distribution for a parametrized approximation."
   ]
  },
  {
   "cell_type": "markdown",
   "metadata": {},
   "source": [
    "- KL divergence is a slight modification of the entropy formula.\n",
    "\n",
    "- Let our probability distribution be $p$, and our approximating probability distribution be $q$.\n",
    "\n",
    "- $$D_{KL}(p||q) = \\sum_{i=1}^{N} p(x_{i}) [\\log{ p(x_{i})} - \\log{ q(x_{i})}] = \\sum_{i=1}^{N} p(x_{i}) \\log{ \\frac{p(x_{i})}{q(x_{i})}}$$\n",
    "    - The KL divergence gives the expectation of the log difference between the prob of data in the original distr with the approximating distr.\n",
    "    \n",
    "    - If we think in terms of $\\log_{2}$, we can interpret this as how many bits of information we expect to lose by using the approximate prob distr."
   ]
  },
  {
   "cell_type": "markdown",
   "metadata": {},
   "source": [
    "- It may be tempting to think of KL divergence as a distance metric, however we cannot use KL divergence to measure the _distance_ between two distributions.\n",
    "    - Why?\n",
    "    \n",
    "    - Because KL divergence is _not symmetric_. This means $D_{KL}(p||q) \\neq D_{KL}(q||p)$."
   ]
  },
  {
   "cell_type": "code",
   "execution_count": null,
   "metadata": {},
   "outputs": [],
   "source": []
  },
  {
   "cell_type": "markdown",
   "metadata": {},
   "source": [
    "https://machinelearningmastery.com/divergence-between-probability-distributions/"
   ]
  },
  {
   "cell_type": "markdown",
   "metadata": {},
   "source": [
    "### Statistical Distance"
   ]
  },
  {
   "cell_type": "markdown",
   "metadata": {},
   "source": [
    "- There are many situations where we may want to compare 2 prob distr.\n",
    "\n",
    "- For example, suppose we have a random variable, for which we may have a true distribution and an approximation of that distribution.\n",
    "\n",
    "- Now we want to quantify the difference between these two distributions.\n",
    "\n",
    "- This is done by calculating the statistical distance between the two statistical objects (here, these objects are probability distributions).\n",
    "\n",
    "- But instead, it is more common to calculate a divergence between two probability distributions.\n",
    "    - Divergence is not a symmetrical measure. This means divergence of distr Q from P is different than divergence of distr P from Q."
   ]
  },
  {
   "cell_type": "markdown",
   "metadata": {},
   "source": [
    "### Kullback-Leibler Divergence"
   ]
  },
  {
   "cell_type": "markdown",
   "metadata": {},
   "source": [
    "- When the prob for an event from $P$ is large, but prob for the same event in $Q$ is small, then KL divergence is large.\n",
    "\n",
    "- When the prob for an event from $P$ is small, but prob for the same event in $Q$ is large, then KL divergence is large here also, but not as large as in the first case.\n",
    "\n",
    "- <font color=red>Check this^! How to check this?</font>"
   ]
  },
  {
   "cell_type": "markdown",
   "metadata": {},
   "source": [
    "- When KL=0, that means both distributions are identical."
   ]
  },
  {
   "cell_type": "markdown",
   "metadata": {},
   "source": [
    "- KL divergence score is not symmetrical. This means:\n",
    "\n",
    "$$D_{KL}(P|Q) \\neq D_{KL}(Q|P)$$"
   ]
  },
  {
   "cell_type": "markdown",
   "metadata": {},
   "source": [
    "- Named after Solomon Kullback and Richard Leibler."
   ]
  },
  {
   "cell_type": "markdown",
   "metadata": {},
   "source": [
    "- If we are attempting to approximate an unknown probablity distribution, then the target probability distribution from data is P, and Q is our approximation of the distribution.\n",
    "\n",
    "- KL divergence summarizes the number of additional bits/info required to represent an event from the random variable. The better our approximation, the less additional info is required."
   ]
  },
  {
   "cell_type": "markdown",
   "metadata": {},
   "source": [
    "Consider the following example:"
   ]
  },
  {
   "cell_type": "code",
   "execution_count": 1,
   "metadata": {},
   "outputs": [],
   "source": [
    "import matplotlib.pyplot as plt\n",
    "import numpy as np\n",
    "from scipy.special import kl_div, rel_entr"
   ]
  },
  {
   "cell_type": "code",
   "execution_count": 2,
   "metadata": {},
   "outputs": [],
   "source": [
    "# define distributions:\n",
    "events = [\"red\", \"green\", \"blue\"]\n",
    "p = [0.10, 0.40, 0.50]\n",
    "q = [0.80, 0.15, 0.05]"
   ]
  },
  {
   "cell_type": "code",
   "execution_count": 3,
   "metadata": {},
   "outputs": [
    {
     "data": {
      "image/png": "[encoded data removed]",
      "text/plain": [
       "<Figure size 432x288 with 2 Axes>"
      ]
     },
     "metadata": {
      "needs_background": "light"
     },
     "output_type": "display_data"
    }
   ],
   "source": [
    "fig = plt.figure()\n",
    "ax1 = fig.add_axes([0, 0, 1, 0.5])\n",
    "ax2 = fig.add_axes([0, -0.6, 1, 0.5])\n",
    "\n",
    "ax1.bar(events, p)\n",
    "ax2.bar(events, q)\n",
    "\n",
    "ax1.set_ylabel(\"p\", fontsize=15)\n",
    "ax2.set_ylabel(\"q\", fontsize=15)\n",
    "\n",
    "plt.show()"
   ]
  },
  {
   "cell_type": "code",
   "execution_count": 4,
   "metadata": {},
   "outputs": [],
   "source": [
    "def KL_divergence_bits(p, q):\n",
    "    MySum = 0.0\n",
    "    for ii in range(len(p)):\n",
    "        MySum += p[ii] * np.log2(p[ii]/q[ii])\n",
    "    return MySum"
   ]
  },
  {
   "cell_type": "code",
   "execution_count": 5,
   "metadata": {},
   "outputs": [],
   "source": [
    "def KL_divergence_nats(p, q):\n",
    "    MySum = 0.0\n",
    "    for ii in range(len(p)):\n",
    "        MySum += p[ii] * np.log(p[ii]/q[ii])\n",
    "    return MySum"
   ]
  },
  {
   "cell_type": "code",
   "execution_count": 6,
   "metadata": {},
   "outputs": [
    {
     "name": "stdout",
     "output_type": "stream",
     "text": [
      "KL(P||Q) = 1.9269790471552186 bits\n",
      "KL(Q||P) = 2.0216479703638055 bits\n"
     ]
    }
   ],
   "source": [
    "# KL(P||Q):\n",
    "print(\"KL(P||Q) =\", KL_divergence_bits(p, q), \"bits\")\n",
    "\n",
    "# KL(Q||P):\n",
    "print(\"KL(Q||P) =\", KL_divergence_bits(q, p), \"bits\")"
   ]
  },
  {
   "cell_type": "code",
   "execution_count": 7,
   "metadata": {},
   "outputs": [
    {
     "name": "stdout",
     "output_type": "stream",
     "text": [
      "KL(P||Q) = 1.3356800935337299 nats\n",
      "KL(Q||P) = 1.4012995907424075 nats\n"
     ]
    }
   ],
   "source": [
    "# KL(P||Q):\n",
    "print(\"KL(P||Q) =\", KL_divergence_nats(p, q), \"nats\")\n",
    "\n",
    "# KL(Q||P):\n",
    "print(\"KL(Q||P) =\", KL_divergence_nats(q, p), \"nats\")"
   ]
  },
  {
   "cell_type": "markdown",
   "metadata": {},
   "source": [
    "Scipy has in-built functions ```kl_div()``` and ```rel_entr()```."
   ]
  },
  {
   "cell_type": "markdown",
   "metadata": {},
   "source": [
    "$ \\textrm{kl_div}(p, q)\n",
    "=\n",
    "\\begin{cases} \n",
    "    p \\log(p/q) - p + q & \\text{if } p>0, q>0 \\\\\n",
    "    q & \\text{if } p = 0, q \\geq 0 \\\\\n",
    "    \\infty & \\text{otherwise}\n",
    "\\end{cases}\n",
    "$"
   ]
  },
  {
   "cell_type": "markdown",
   "metadata": {},
   "source": [
    "$ \\textrm{rel_entr}(p, q)\n",
    "=\n",
    "\\begin{cases} \n",
    "    p \\log(p/q) & \\text{if } p>0, q>0 \\\\\n",
    "    0 & \\text{if } p = 0, q \\geq 0 \\\\\n",
    "    \\infty & \\text{otherwise}\n",
    "\\end{cases}\n",
    "$"
   ]
  },
  {
   "cell_type": "code",
   "execution_count": 8,
   "metadata": {},
   "outputs": [
    {
     "name": "stdout",
     "output_type": "stream",
     "text": [
      "1.33568009353373\n",
      "1.4012995907424075\n"
     ]
    }
   ],
   "source": [
    "print( sum(kl_div(p, q)) )\n",
    "print( sum(kl_div(q, p)) )"
   ]
  },
  {
   "cell_type": "code",
   "execution_count": 9,
   "metadata": {},
   "outputs": [
    {
     "name": "stdout",
     "output_type": "stream",
     "text": [
      "1.3356800935337299\n",
      "1.4012995907424075\n"
     ]
    }
   ],
   "source": [
    "print( sum(rel_entr(p, q)) )\n",
    "print( sum(rel_entr(q, p)) )"
   ]
  },
  {
   "cell_type": "markdown",
   "metadata": {},
   "source": [
    "Note how we have to sum over the outputs of ```kl_div()``` and ```rel_entr()``` in order to get a scalar quantity. This is because of the way these functions have been defined in scipy."
   ]
  },
  {
   "cell_type": "markdown",
   "metadata": {},
   "source": [
    "Also note that both ```kl_div()``` and ```rel_entr()``` use natural log in their calculations."
   ]
  },
  {
   "cell_type": "markdown",
   "metadata": {},
   "source": [
    "Note that relative \"relative entropy\" is often used as a synonym for \"KL divergence\". (See https://en.wikipedia.org/wiki/Kullback%E2%80%93Leibler_divergence)\n",
    "\n",
    "But, clearly, that is not the case in scipy."
   ]
  },
  {
   "cell_type": "markdown",
   "metadata": {},
   "source": [
    "### Jensen-Shannon Divergence"
   ]
  },
  {
   "cell_type": "markdown",
   "metadata": {},
   "source": [
    "- JSD is another way to quantify the difference or similarity between 2 probability distributions.\n",
    "\n",
    "\n",
    "- It uses the KL divergence to calculate a normalized score that is symmetrical. This means that the divergence of P from Q is the same as divergence of Q from P:<br>\n",
    "$\\textrm{JSD}(P||Q) = \\textrm{JSD}(Q||P)$"
   ]
  },
  {
   "cell_type": "markdown",
   "metadata": {},
   "source": [
    "Defn:\n",
    "$$\\textrm{JSD}(P||Q) = \\frac{1}{2} D_{KL}(P||M) + \\frac{1}{2} D_{KL}(Q||M)$$\n",
    "\n",
    "where,\n",
    "$$M = \\frac{1}{2} (P + Q)$$"
   ]
  },
  {
   "cell_type": "markdown",
   "metadata": {},
   "source": [
    "- JSD provides a smoothed and normalized version of KL divergence.\n",
    "\n",
    "- JSD $\\in [0, \\ln{2}]$ (when using natural log in calculation).\n",
    "\n",
    "- When the two probability distributions are identical, then JSD $= 0$.\n",
    "\n",
    "- When the two probability distributions are maximally different, then JSD $= \\ln{2}$."
   ]
  },
  {
   "cell_type": "markdown",
   "metadata": {},
   "source": [
    "- Defn: $\\sqrt{\\textrm{JSD}}$ = Jensen-Shannon distance."
   ]
  },
  {
   "cell_type": "code",
   "execution_count": 10,
   "metadata": {},
   "outputs": [],
   "source": [
    "def JSD_bits(P, Q):\n",
    "    #assume P and Q are lists.\n",
    "    M = 0.5 * (np.array(P) + np.array(Q))\n",
    "    jsd_score = 0.5*KL_divergence_bits(P, M) + 0.5*KL_divergence_bits(Q, M)\n",
    "    return jsd_score"
   ]
  },
  {
   "cell_type": "code",
   "execution_count": 11,
   "metadata": {},
   "outputs": [],
   "source": [
    "def JSD_nats(P, Q):\n",
    "    #assume P and Q are lists.\n",
    "    M = 0.5 * (np.array(P) + np.array(Q))\n",
    "    jsd_score = 0.5*sum(rel_entr(P, M)) + 0.5*sum(rel_entr(Q, M))\n",
    "    return jsd_score"
   ]
  },
  {
   "cell_type": "code",
   "execution_count": 12,
   "metadata": {},
   "outputs": [
    {
     "name": "stdout",
     "output_type": "stream",
     "text": [
      "JS divergence:\n",
      "JSD(P||Q) = 0.42020057037637326 bits\n",
      "JSD(Q||P) = 0.42020057037637326 bits\n",
      "or,\n",
      "JSD(P||Q) = 0.29126084062606405 nats\n",
      "JSD(Q||P) = 0.29126084062606405 nats\n"
     ]
    }
   ],
   "source": [
    "print(\"JS divergence:\")\n",
    "print(\"JSD(P||Q) = {} bits\".format(JSD_bits(p, q)))\n",
    "print(\"JSD(Q||P) = {} bits\".format(JSD_bits(p, q)))\n",
    "print(\"or,\")\n",
    "print(\"JSD(P||Q) = {} nats\".format(JSD_nats(p, q)))\n",
    "print(\"JSD(Q||P) = {} nats\".format(JSD_nats(p, q)))"
   ]
  },
  {
   "cell_type": "code",
   "execution_count": 13,
   "metadata": {},
   "outputs": [
    {
     "name": "stdout",
     "output_type": "stream",
     "text": [
      "JS distance:\n",
      "JS(P||Q) distance = 0.6482287947757128 bits\n",
      "JS(Q||P) distance = 0.6482287947757128 bits\n",
      "or,\n",
      "JS(P||Q) distance = 0.5396858721757167 nats\n",
      "JS(Q||P) distance = 0.5396858721757167 nats\n"
     ]
    }
   ],
   "source": [
    "print(\"JS distance:\")\n",
    "print(\"JS(P||Q) distance = {} bits\".format(np.sqrt(JSD_bits(p, q))) )\n",
    "print(\"JS(Q||P) distance = {} bits\".format(np.sqrt(JSD_bits(p, q))) )\n",
    "print(\"or,\")\n",
    "print(\"JS(P||Q) distance = {} nats\".format(np.sqrt(JSD_nats(p, q))) )\n",
    "print(\"JS(Q||P) distance = {} nats\".format(np.sqrt(JSD_nats(p, q))) )"
   ]
  },
  {
   "cell_type": "markdown",
   "metadata": {},
   "source": [
    "JS distance is also given in ```scipy.spatial.distance.jensenshannon```."
   ]
  },
  {
   "cell_type": "code",
   "execution_count": 14,
   "metadata": {},
   "outputs": [],
   "source": [
    "from scipy.spatial.distance import jensenshannon"
   ]
  },
  {
   "cell_type": "code",
   "execution_count": 15,
   "metadata": {},
   "outputs": [
    {
     "name": "stdout",
     "output_type": "stream",
     "text": [
      "JS distance = 0.6482287947757129 bits\n",
      "JS distance = 0.5396858721757167 nats\n"
     ]
    }
   ],
   "source": [
    "print( \"JS distance = {} bits\".format(jensenshannon(p, q, 2)) )\n",
    "print( \"JS distance = {} nats\".format(jensenshannon(p, q)) )"
   ]
  },
  {
   "cell_type": "code",
   "execution_count": null,
   "metadata": {},
   "outputs": [],
   "source": []
  }
 ],
 "metadata": {
  "kernelspec": {
   "display_name": "Python 3",
   "language": "python",
   "name": "python3"
  },
  "language_info": {
   "codemirror_mode": {
    "name": "ipython",
    "version": 3
   },
   "file_extension": ".py",
   "mimetype": "text/x-python",
   "name": "python",
   "nbconvert_exporter": "python",
   "pygments_lexer": "ipython3",
   "version": "3.6.8"
  }
 },
 "nbformat": 4,
 "nbformat_minor": 2
}
