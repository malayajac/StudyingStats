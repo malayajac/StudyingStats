{
 "cells": [
  {
   "cell_type": "markdown",
   "metadata": {},
   "source": [
    "### What is a random number?"
   ]
  },
  {
   "cell_type": "markdown",
   "metadata": {},
   "source": [
    "From https://mathworld.wolfram.com/RandomNumber.html <br>\n",
    "\"A random number is a number chosen as if by chance from some specified distribution such that selection of a large set of these numbers reproduces the underlying distribution.\""
   ]
  },
  {
   "cell_type": "markdown",
   "metadata": {},
   "source": [
    "### How to people usually generate random numbers?"
   ]
  },
  {
   "cell_type": "markdown",
   "metadata": {},
   "source": [
    "From https://mathworld.wolfram.com/RandomNumber.html <br>\n",
    "\"Computer-generated random numbers are sometimes called pseudorandom numbers, while the term 'random' is reserved for the output of unpredictable physical processes.\""
   ]
  },
  {
   "cell_type": "markdown",
   "metadata": {},
   "source": [
    "### What is a continuous power-law distribution?"
   ]
  },
  {
   "cell_type": "markdown",
   "metadata": {},
   "source": [
    "From http://tuvalu.santafe.edu/~aaronc/courses/7000/csci7000-001_2011_L2.pdf <br>\n",
    "\n",
    "A power-law distribution is defined as follows:\n",
    "$$p(x) = C x^{-\\alpha}, \\,\\,\\, \\text{for}\\,x \\geq x_{min}$$\n",
    "\n",
    "Note that the definition holds only for $x \\geq$ some $x_{min}>0$, because $p(x)$ blows up at $x=0$.\n",
    "\n",
    "Also, we need $\\alpha>1$ so that the pdf can be normalized. You'll get it once we calculate the normalization constant."
   ]
  },
  {
   "cell_type": "markdown",
   "metadata": {},
   "source": [
    "Normalization constant:<br>\n",
    "\n",
    "$$\n",
    "\\int_{x=x_{min}}^{\\infty} p(x) dx = 1 \n",
    "\\Rightarrow \n",
    "\\int_{x=x_{min}}^{\\infty} C x^{-\\alpha} dx = 1\n",
    "\\Rightarrow \n",
    "C \\frac{1}{-\\alpha + 1}\n",
    "\\left[x^{-\\alpha+1}\\right]_{x_{min}}^{\\infty}  = 1\n",
    "$$\n",
    "\n",
    "$$\n",
    "\\Rightarrow \n",
    "C \\frac{-1}{\\alpha - 1}\n",
    "\\left[\\frac{1}{x^{\\alpha - 1}}\n",
    "\\right]_{x_{min}}^{\\infty} = 1\n",
    "\\Rightarrow\n",
    "C \\frac{-1}{\\alpha - 1}\n",
    "\\left[0 - \\frac{1}{x_{min}^{\\alpha - 1}}\n",
    "\\right] = 1\n",
    "$$\n",
    "\n",
    "$$\n",
    "\\Rightarrow\n",
    "C = (\\alpha - 1) x_{min}^{\\alpha - 1}\n",
    "= \\frac{\\alpha - 1}{x_{min}} \\frac{1}{x_{min}^{-\\alpha}}\n",
    "$$"
   ]
  },
  {
   "cell_type": "markdown",
   "metadata": {},
   "source": [
    "So, finally:\n",
    "$$ p(x) = \\frac{\\alpha - 1}{x_{min}}\n",
    "\\left(\\frac{x}{x_{min}}\\right)^{-\\alpha}, \\,\\,\\, \\text{for}\\,x \\geq x_{min}$$"
   ]
  },
  {
   "cell_type": "markdown",
   "metadata": {},
   "source": [
    "### What's special about power laws?"
   ]
  },
  {
   "cell_type": "markdown",
   "metadata": {},
   "source": [
    "1.<br>\n",
    "\"Many empirical quantities cluster around a typical value.\"<br>\n",
    "This \"typical value\" is usually the mean.\n",
    "\n",
    "That's not the case with numbers that follow a power-law distribution."
   ]
  },
  {
   "cell_type": "markdown",
   "metadata": {},
   "source": [
    "2.<br>\n",
    "\"Only the first $\\llcorner \\alpha − 1 \\lrcorner$ moments of a power-law distribution exist; all the rest are infinite.\"\n",
    "\n",
    "$k^{th}$ moment of a power-law distribution:<br>\n",
    "\\begin{align}\n",
    "\\langle x^{k} \\rangle & = \\int_{x=x_{min}}^{\\infty} x^{k} p(x) dx \\\\\n",
    "                      & = \\frac{\\alpha - 1}{x_{min}^{-\\alpha+1}}\n",
    "                          \\int_{x_{min}}^{\\infty} x^{-\\alpha+k} dx \\\\\n",
    "                      & = \\frac{\\alpha - 1}{x_{min}^{-\\alpha+1}}\n",
    "                          \\frac{1}{-\\alpha + k + 1}\n",
    "                          \\left[x^{-\\alpha+k+1}\\right]_{x_{min}}^{\\infty} \\\\\n",
    "                      & = \\frac{\\alpha - 1}{x_{min}^{-\\alpha+1}}\n",
    "                          \\frac{1}{\\alpha - k - 1}\n",
    "                          \\frac{1}{x_{min}^{\\alpha-k-1}} \\\\\n",
    "                      & = x_{min}^{k}\n",
    "                          \\frac{\\alpha - 1}{\\alpha - k - 1}\n",
    "                          \\,\\,\\,\\,\\,\\, \\text{for}\\, \\alpha >k+1\n",
    "\\end{align}"
   ]
  },
  {
   "cell_type": "markdown",
   "metadata": {},
   "source": [
    "So, when $1<\\alpha<2$, the first moment (i.e. mean) and higher moments are infinite."
   ]
  },
  {
   "cell_type": "markdown",
   "metadata": {},
   "source": [
    "When $2<\\alpha<3$, the first moment (i.e. mean) is finite, but second and higher moments are infinite."
   ]
  },
  {
   "cell_type": "markdown",
   "metadata": {},
   "source": [
    "\"When a moment doesn’t exist, the sample estimate grows with sample size $n$. But, even when the appropriate moment does exist, the sample estimates vary a lot, especially for small values of $n$, and converge very slowly on the true value.\""
   ]
  },
  {
   "cell_type": "markdown",
   "metadata": {},
   "source": [
    "3.<br>\n",
    "The power-law distribution looks the same across any scale, i.e. the power-law distribution is scale-invariant.\n",
    "\n",
    "In other words, for some constant $c$:\n",
    "\n",
    "$$ p(cx) \\propto p(x) $$\n",
    "\n",
    "Because:\n",
    "\\begin{align}\n",
    "p(cx) & = \\frac{\\alpha-1}{x_{min}} \\left(\\frac{cx}{x_{min}}\\right)^{-\\alpha} \\\\\n",
    "& = c^{-\\alpha} p(x) \\\\\n",
    "\\Rightarrow p(cx) & \\propto p(x)\n",
    "\\end{align}\n",
    "\n",
    "\n",
    "\n",
    "\"This behavior shows that the relative likelihood between small and large events is the same, no matter what choice of 'small' we make. That is, the density 'scales'.\""
   ]
  },
  {
   "cell_type": "markdown",
   "metadata": {},
   "source": [
    "### Power-law tails"
   ]
  },
  {
   "cell_type": "markdown",
   "metadata": {},
   "source": [
    "- Some distributions may exhibit a power law only in their tail, i.e for large $x$.\n",
    "\n",
    "- These distributions can be expressed in the form:\n",
    "$$ Pr(x) = L(x) x^{-\\alpha} $$\n",
    "where, L(x) is a slowly varying function, st $\\lim \\limits_{x\\to\\infty} L(x) = c$, some constant, and $\\lim \\limits_{x\\to\\infty} p(x) = x^{-\\alpha}$."
   ]
  },
  {
   "cell_type": "markdown",
   "metadata": {},
   "source": [
    "For example, consider the shifted power-law distribution:\n",
    "$$\n",
    "Pr(x) = \\frac{\\alpha-1}{k+x_{min}} \\left(\\frac{k+x}{k+x_{min}}\\right)^{-\\alpha}\n",
    "\\,\\,\\,\\,\\,\\, \\text{for}\\, x \\geq x_{min}\n",
    "$$\n",
    "\n",
    "Here, $k$ is some constant.\n",
    "\n",
    "When $k=0$, we get back the usual power-law pdf."
   ]
  },
  {
   "cell_type": "code",
   "execution_count": 1,
   "metadata": {},
   "outputs": [],
   "source": [
    "import numpy as np\n",
    "import matplotlib.pyplot as plt"
   ]
  },
  {
   "cell_type": "code",
   "execution_count": 2,
   "metadata": {},
   "outputs": [],
   "source": [
    "def ShiftedPowerLaw(x, alpha, xmin, k):\n",
    "    part1 = (alpha-1)/(k+xmin)\n",
    "    part2 = ((k+x)/(k+xmin))**(-alpha)\n",
    "    pdf = part1*part2\n",
    "    return pdf"
   ]
  },
  {
   "cell_type": "code",
   "execution_count": 3,
   "metadata": {},
   "outputs": [],
   "source": [
    "alpha = 2.5\n",
    "xmin = 7."
   ]
  },
  {
   "cell_type": "code",
   "execution_count": 4,
   "metadata": {},
   "outputs": [],
   "source": [
    "x_line = np.arange(1, 10000, 0.1)"
   ]
  },
  {
   "cell_type": "code",
   "execution_count": 5,
   "metadata": {},
   "outputs": [
    {
     "data": {
      "image/png": "[encoded data removed]",
      "text/plain": [
       "<Figure size 432x288 with 1 Axes>"
      ]
     },
     "metadata": {
      "needs_background": "light"
     },
     "output_type": "display_data"
    }
   ],
   "source": [
    "fig = plt.figure()\n",
    "ax = fig.add_axes([0, 0, 1, 1])\n",
    "\n",
    "for k in [0, 5, 25]:\n",
    "    y_line = ShiftedPowerLaw(x_line, alpha, xmin, k)\n",
    "    ax.plot(x_line, y_line, label=\"k={}\".format(k))\n",
    "\n",
    "ax.set_xlim([x_line[0], x_line[-1]])\n",
    "# ax.set_ylim([1e-8, 1])\n",
    "\n",
    "ax.set_xscale('log')\n",
    "ax.set_yscale('log')\n",
    "\n",
    "ax.set_xlabel(\"x\", fontsize=20)\n",
    "ax.set_ylabel(\"Pr(x)\", fontsize=20)\n",
    "plt.legend(loc=\"upper right\")\n",
    "plt.show()"
   ]
  },
  {
   "cell_type": "markdown",
   "metadata": {},
   "source": [
    "$$\n",
    "Pr(x) = \\frac{\\alpha-1}{k+x_{min}} \\left(\\frac{k+x}{k+x_{min}}\\right)^{-\\alpha}\n",
    "\\,\\,\\,\\,\\,\\, \\text{for}\\, x \\geq x_{min}\n",
    "$$\n",
    "\n",
    "We can write this as:\n",
    "\\begin{align}\n",
    "Pr(x) & = C (k+x)^{-\\alpha}\n",
    "\\,\\,\\,\\,\\,\\, \\text{for}\\, x \\geq x_{min} \\\\\n",
    "& = C (k+x)^{-\\alpha} \\frac{x^{-\\alpha}}{x^{-\\alpha}} \\\\\n",
    "& = C \\left(1 + \\frac{k}{x}\\right)^{-\\alpha} x^{-\\alpha} \\\\\n",
    "& = L(x) x^{-\\alpha} \\\\\n",
    "\\end{align}"
   ]
  },
  {
   "cell_type": "markdown",
   "metadata": {},
   "source": [
    "Here, $\\lim \\limits_{x \\to \\infty} L(x) = \\lim \\limits_{x \\to \\infty} C \\left(1 + \\frac{k}{x}\\right)^{-\\alpha} = C$\n"
   ]
  },
  {
   "cell_type": "markdown",
   "metadata": {},
   "source": [
    "\"The function $L(x)$ describes exactly how the deviations from the power-law form decayas we move further out into the tail. When $x \\lesssim k$, the “body” term $L(x)$ is large compared to the tail term $x^{−\\alpha}$, leading to curvature on the log-log plot.\""
   ]
  },
  {
   "cell_type": "code",
   "execution_count": null,
   "metadata": {},
   "outputs": [],
   "source": []
  }
 ],
 "metadata": {
  "kernelspec": {
   "display_name": "Python 3",
   "language": "python",
   "name": "python3"
  },
  "language_info": {
   "codemirror_mode": {
    "name": "ipython",
    "version": 3
   },
   "file_extension": ".py",
   "mimetype": "text/x-python",
   "name": "python",
   "nbconvert_exporter": "python",
   "pygments_lexer": "ipython3",
   "version": "3.7.7"
  }
 },
 "nbformat": 4,
 "nbformat_minor": 4
}
